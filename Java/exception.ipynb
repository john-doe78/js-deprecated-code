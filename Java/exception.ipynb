{
 "cells": [
  {
   "cell_type": "markdown",
   "metadata": {},
   "source": [
    "* try - to maintain risky code\n",
    "* catch - to maintain exception handling code\n",
    "* finally - to maintain cleanup code\n",
    "* throw - to hand-over, custom exception object to JVM\n",
    "* throws - to delegate responsibilites of exception handling to the caller.\n",
    "\n",
    "Possible compile time exception messages:\n",
    "\n",
    "* unreported excception to XXX; must be caught or declared to be thrown\n",
    "* Exception XXX has already been caught\n",
    "* Exception XXX is never thrown in body of corresponding `try` statement\n",
    "* Unreachable statement\n",
    "* Incompatible types  \n",
    "    found: Test  \n",
    "    required `java.lang.Throwable`\n",
    "* `try` without `catch` or `finally`\n",
    "* `catch` without `try`\n",
    "* `finally` without `try`\n",
    "\n",
    "## Customized Exception"
   ]
  },
  {
   "cell_type": "code",
   "execution_count": null,
   "metadata": {
    "vscode": {
     "languageId": "java"
    }
   },
   "outputs": [],
   "source": [
    "class TooYoungException extends RuntimeException {\n",
    "    TooYoungException(String msg) {\n",
    "        super(msg);\n",
    "    }\n",
    "}\n",
    "\n",
    "class TooOldException extends RuntimeException {\n",
    "    TooOldException(String msg) {\n",
    "        super(msg);\n",
    "    }\n",
    "}"
   ]
  },
  {
   "cell_type": "code",
   "execution_count": null,
   "metadata": {
    "vscode": {
     "languageId": "java"
    }
   },
   "outputs": [],
   "source": [
    "import java.util.Scanner;\n",
    "\n",
    "class Test {\n",
    "    public static void main() {\n",
    "        // int age = Integer.parseInt(args[0]);\n",
    "        Scanner scanner = new Scanner(System.in);\n",
    "        System.out.print(\"Enter your age: \");\n",
    "        int age = scanner.nextInt();\n",
    "        scanner.close();\n",
    "\n",
    "        if (age > 60) {\n",
    "            throw new TooYoungException(\"Please wait some more time, definitely you will get best matched\");\n",
    "        } else if (age < 18) {\n",
    "            throw new TooOldException(\"Your age is already crossed for marriage age, no chance of getting married.\");\n",
    "        } else {\n",
    "            System.out.println(\"You'll get matched details soon by email\");\n",
    "        }\n",
    "    }\n",
    "}"
   ]
  },
  {
   "cell_type": "markdown",
   "metadata": {},
   "source": [
    "* [Common Java Exceptions](https://www.baeldung.com/java-common-exceptions)\n",
    "* [Checked and Unchecked Exceptions in Java](https://www.baeldung.com/java-checked-unchecked-exceptions)\n",
    "\n",
    "## Top 10 Java Exceptions\n",
    "\n",
    "### NoClassDefFoundError\n",
    "\n",
    "* When JVM unable to find the `.class` file, it will raise the error.\n",
    "* [ClassNotFoundException vs NoClassDefFoundError](https://www.baeldung.com/java-classnotfoundexception-and-noclassdeffounderror)\n",
    "* It is child of `RuntimeException` hence it is `unchecked`\n",
    "\n",
    "### ArrayIndexOutOfBoundsException\n",
    "\n",
    "* [Java ArrayIndexOutOfBoundsException](https://www.baeldung.com/java-arrayindexoutofboundsexception)\n",
    "* It is child of `RuntimeException` hence it is `unchecked`\n",
    "* If a piece of code tries to access an illegal index of an array, the respective method throws an `ArrayIndexOutOfBoundException`."
   ]
  },
  {
   "cell_type": "code",
   "execution_count": null,
   "metadata": {
    "vscode": {
     "languageId": "java"
    }
   },
   "outputs": [],
   "source": [
    "int[] x = new int[4];\n",
    "x[0] = 10;\n",
    "\n",
    "System.out.println(x[0]);\n",
    "System.out.println(x[10]);"
   ]
  },
  {
   "cell_type": "markdown",
   "metadata": {},
   "source": [
    "### NullPointerException\n",
    "\n",
    "* [Helpful NullPointerExceptions in Java](https://www.baeldung.com/java-14-nullpointerexception)\n",
    "* It is child of `RuntimeException` hence it is `unchecked`\n",
    "* If an application attempts to use `null` where it actually requires an object instance, the method will throw a `NullPointerException`. "
   ]
  },
  {
   "cell_type": "code",
   "execution_count": null,
   "metadata": {
    "vscode": {
     "languageId": "java"
    }
   },
   "outputs": [],
   "source": [
    "String s = null;\n",
    "System.out.println(s.length());"
   ]
  },
  {
   "cell_type": "markdown",
   "metadata": {},
   "source": [
    "### ClassCastException\n",
    "\n",
    "* [Explanation of ClassCastException in Java](https://www.baeldung.com/java-classcastexception)\n",
    "* It is child of `RuntimeException` hence it is `unchecked`\n",
    "* At runtime, if the code attempts to downcast an object to a subtype of which it isn’t an instance, the method throws a `ClassCastException`."
   ]
  },
  {
   "cell_type": "code",
   "execution_count": null,
   "metadata": {
    "vscode": {
     "languageId": "java"
    }
   },
   "outputs": [],
   "source": [
    "// child class can cast to parent class\n",
    "String str = new String(\"Hello\");\n",
    "Object o = (Object) str;"
   ]
  },
  {
   "cell_type": "code",
   "execution_count": null,
   "metadata": {
    "vscode": {
     "languageId": "java"
    }
   },
   "outputs": [],
   "source": [
    "// not vice versa\n",
    "Object o = new Object();\n",
    "String str = (Object) o;"
   ]
  },
  {
   "cell_type": "code",
   "execution_count": null,
   "metadata": {
    "vscode": {
     "languageId": "java"
    }
   },
   "outputs": [],
   "source": [
    "// valid\n",
    "Object o = new String(\"Hello\");\n",
    "String s = (String) o;"
   ]
  },
  {
   "cell_type": "markdown",
   "metadata": {},
   "source": [
    "### StackOverflowError \n",
    "\n",
    "* It is child of `RuntimeException` hence it is `unchecked`\n",
    "* [The StackOverflowError in Java](https://www.baeldung.com/java-stack-overflow-error)"
   ]
  },
  {
   "cell_type": "code",
   "execution_count": null,
   "metadata": {
    "vscode": {
     "languageId": "java"
    }
   },
   "outputs": [],
   "source": [
    "class Test {\n",
    "    public static void m1() {\n",
    "        m2();\n",
    "    }\n",
    "\n",
    "    public static void m2() {\n",
    "        m1();\n",
    "    }\n",
    "\n",
    "    public static void main() {\n",
    "        m1();\n",
    "    }\n",
    "}\n",
    "\n",
    "Test.m1();"
   ]
  },
  {
   "cell_type": "markdown",
   "metadata": {},
   "source": [
    "### ExceptionInInitializerError\n",
    "\n",
    "* It is child of `RuntimeException` hence it is `unchecked`\n",
    "* [When Does Java Throw the ExceptionInInitializerError?](https://www.baeldung.com/java-exceptionininitializererror)"
   ]
  },
  {
   "cell_type": "code",
   "execution_count": null,
   "metadata": {
    "vscode": {
     "languageId": "java"
    }
   },
   "outputs": [],
   "source": [
    "class Test {\n",
    "    public static int x = 10 / 0;\n",
    "}\n",
    "\n",
    "// Test.x;"
   ]
  },
  {
   "cell_type": "code",
   "execution_count": null,
   "metadata": {
    "vscode": {
     "languageId": "java"
    }
   },
   "outputs": [],
   "source": [
    "class Test {\n",
    "    static {\n",
    "        String s = null;\n",
    "        System.out.println(s.length());\n",
    "    }\n",
    "}"
   ]
  },
  {
   "cell_type": "markdown",
   "metadata": {},
   "source": [
    "### IllegalArgumentException\n",
    "\n",
    "* It is child of `RuntimeException` hence it is `unchecked`\n",
    "* A method throws an `IllegalArgumentException` if we call it with some illegal or inappropriate arguments.\n",
    "* [IllegalArgumentException or NullPointerException for a Null Parameter?](https://www.baeldung.com/java-illegalargumentexception-or-nullpointerexception)"
   ]
  },
  {
   "cell_type": "code",
   "execution_count": null,
   "metadata": {
    "vscode": {
     "languageId": "java"
    }
   },
   "outputs": [],
   "source": [
    "Thread t = new Thread();\n",
    "t.setPriority(7); // range(1,10)\n",
    "\n",
    "t.setPriority(15);"
   ]
  },
  {
   "cell_type": "markdown",
   "metadata": {},
   "source": [
    "### NumberFormatException\n",
    "\n",
    "* Java throws `NumberFormatException` – an unchecked exception – when it cannot convert a String to a number type.\n",
    "* [Understanding the NumberFormatException in Java](https://www.baeldung.com/java-number-format-exception)\n",
    "* It is child class of `IllegalArgumentException`."
   ]
  },
  {
   "cell_type": "code",
   "execution_count": null,
   "metadata": {
    "vscode": {
     "languageId": "java"
    }
   },
   "outputs": [],
   "source": [
    "int i = Integer.parseInt(\"10\");"
   ]
  },
  {
   "cell_type": "code",
   "execution_count": null,
   "metadata": {
    "vscode": {
     "languageId": "java"
    }
   },
   "outputs": [],
   "source": [
    "int i = Integer.parseInt(\"ten\");"
   ]
  },
  {
   "cell_type": "markdown",
   "metadata": {},
   "source": [
    "### IllegaStateException\n",
    "\n",
    "* `IllegalStateException` signals that a method’s been invoked at an illegal or inappropriate time."
   ]
  },
  {
   "cell_type": "code",
   "execution_count": null,
   "metadata": {
    "vscode": {
     "languageId": "java"
    }
   },
   "outputs": [],
   "source": [
    "Iterator<Integer> intListIterator = new ArrayList<>().iterator(); \n",
    "intListIterator.remove();"
   ]
  },
  {
   "cell_type": "markdown",
   "metadata": {},
   "source": [
    "### AssertionError\n",
    "\n",
    "* It is child of `Error` hence it is `unchecked`.\n",
    "* An `AssertionError` is thrown when a Java program encounters a failed assertion"
   ]
  },
  {
   "cell_type": "code",
   "execution_count": null,
   "metadata": {
    "vscode": {
     "languageId": "java"
    }
   },
   "outputs": [],
   "source": [
    "int number = -5;\n",
    "assert number > 0 : \"Number must be positive\";\n",
    "System.out.println(\"Number is positive: \" + number);"
   ]
  },
  {
   "cell_type": "markdown",
   "metadata": {},
   "source": []
  }
 ],
 "metadata": {
  "language_info": {
   "name": "python"
  }
 },
 "nbformat": 4,
 "nbformat_minor": 2
}
